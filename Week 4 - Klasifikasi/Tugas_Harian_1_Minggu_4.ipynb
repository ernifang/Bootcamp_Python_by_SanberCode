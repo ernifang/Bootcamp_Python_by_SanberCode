{
  "nbformat": 4,
  "nbformat_minor": 0,
  "metadata": {
    "kernelspec": {
      "display_name": "Python 3",
      "language": "python",
      "name": "python3"
    },
    "language_info": {
      "codemirror_mode": {
        "name": "ipython",
        "version": 3
      },
      "file_extension": ".py",
      "mimetype": "text/x-python",
      "name": "python",
      "nbconvert_exporter": "python",
      "pygments_lexer": "ipython3",
      "version": "3.7.6"
    },
    "colab": {
      "name": "Tugas Harian 1 Minggu 4.ipynb",
      "provenance": [],
      "include_colab_link": true
    }
  },
  "cells": [
    {
      "cell_type": "markdown",
      "metadata": {
        "id": "view-in-github",
        "colab_type": "text"
      },
      "source": [
        "<a href=\"https://colab.research.google.com/github/Nanangk/Bootcamp_Python_dari_SanberCode/blob/master/Week%204%20-%20Klasifikasi%20/%20Tugas_Harian_1_Minggu_4.ipynb\" target=\"_parent\"><img src=\"https://colab.research.google.com/assets/colab-badge.svg\" alt=\"Open In Colab\"/></a>"
      ]
    },
    {
      "cell_type": "markdown",
      "metadata": {
        "id": "47NOwo3UNcRl",
        "colab_type": "text"
      },
      "source": [
        "<h1>Quiz 1 : Pemahaman Machine Learning</h1>\n",
        "\n",
        "Jawab/Kerjakan pertanyaan/perintah di bawah ini dengan bahasa kalian sendiri :\n",
        "\n",
        "- Apa itu machine learning?\n",
        "- Apa itu data feature dan data target\n",
        "- Apa Perbedaan Supervised Learning, dan Unsupervised Learning\n",
        "- Apa Jenis2 yang ada di dalam Supervised Learning? Jelaskan Perbedaannya!\n",
        "- Apa perbedaan Hyperparameter dan Parameter\n",
        "- Sebutkan step2 dalam mengapplikasikan algoritma apapun dalam machine learning"
      ]
    },
    {
      "cell_type": "markdown",
      "metadata": {
        "id": "58I1LJFoNcRv",
        "colab_type": "text"
      },
      "source": [
        "#Jawab\n",
        "- Machine Learning Merupakan cabang dari Artificial Intelegent khususnya mempelajari tentang bagaimana komputer mampu belajar dari data untuk meningkatkan kecerdasannya\n",
        "- Data feature adalah data yang variabel yg memprediksi suatu kejadian atau suatu target, dan target adalah hasil/tujuan dari prediksi dari data feature\n",
        "- Supervised learning memiliki data feature yang berlabel sedangkan unsupervised memiliki data feature yang tidak berlabel\n",
        "- jenis jenis supervised learning ada 2 yaitu klasifikasi dan regresi\n",
        "perbedaan di antara ke2nya adalah di outputnya, klasifikasi outputnya class label, sedangkan regresi outputnya adalah kuantiti yg kontinue\n",
        "- Hyperparameter didefinisikan di awal pembuatan objek model, sedangkan parameter dihasilkan di akhir\n",
        "- step2 dalam mengapplikasikan algoritma apapun dalam machine learning\n",
        "  1. Pilih model algoritma yang digunakan\n",
        "  2. pilih hyper parameter ketika akan membuat objek model\n",
        "  3. pisahkan antara data feature dan data target\n",
        "  4. perintahkan model untuk mempeleajari data menggunakan method fit()\n",
        "  5. aplikasikan model ke dalam test data dengan menggunakan method predict() atau transform() untuk supervised learning, dan .predict() untuk unsupervised learning\n"
      ]
    },
    {
      "cell_type": "markdown",
      "metadata": {
        "id": "jI50HJDgNcRz",
        "colab_type": "text"
      },
      "source": [
        "<h1>Quiz 2 : Pemahaman Machine Learning</h1>\n",
        "\n",
        "Pelajarilah secara garis besar suatu model/algoritma machine learning, kemudian applikasikan untuk membuat model bagi data (variable x, y) di bawah ini. kemudian buatlah prediksi terhadap data training dan data baru di interval 20-30.\n",
        "\n",
        "- Plot data asli, data hasil prediksi terhadap data training, data hasil prediksi terhadap data baru\n",
        "- Tunjukan beberapa parameter yang dimiliki model yang telah kalian buat"
      ]
    },
    {
      "cell_type": "code",
      "metadata": {
        "id": "QotZc3UbNcR9",
        "colab_type": "code",
        "outputId": "458e08d2-79d2-48fa-deed-67459f345734",
        "colab": {
          "base_uri": "https://localhost:8080/",
          "height": 391
        }
      },
      "source": [
        "import matplotlib.pyplot as plt\n",
        "import numpy as np\n",
        "\n",
        "from sklearn.linear_model import LinearRegression\n",
        "\n",
        "rng = np.random.RandomState(42)\n",
        "x = 20 * rng.rand(50)\n",
        "y = x**2 + 2 * x + - 1 + rng.randn(50)\n",
        "\n",
        "#rng = rng.reshape(-1, 1)\n",
        "x_matrix = x[:,np.newaxis]\n",
        "model = LinearRegression()\n",
        "model.fit(x_matrix,y)\n",
        "\n",
        "# data yang akan di prediksi\n",
        "x_test = np.arange(20, 30, 0.5)\n",
        "x_test = x_test[:,np.newaxis]\n",
        "y_test = model.predict(x_test)\n",
        "y_train = model.predict(x_matrix)\n",
        "\n",
        "\n",
        "fig, ax = plt.subplots(figsize=(12, 6))\n",
        "ax.scatter(x, y, label='data asli')\n",
        "ax.scatter(x,y_train, label='prediksi data training', color='red')\n",
        "ax.plot(x_test, y_test, label='prediksi data baru', color='green')\n",
        "ax.set_xlabel('X-Value')\n",
        "ax.set_ylabel('Y-Value')\n",
        "ax.legend()\n",
        "plt.show()"
      ],
      "execution_count": 28,
      "outputs": [
        {
          "output_type": "display_data",
          "data": {
            "image/png": "[encoded data removed]",
            "text/plain": [
              "<Figure size 864x432 with 1 Axes>"
            ]
          },
          "metadata": {
            "tags": [],
            "needs_background": "light"
          }
        }
      ]
    },
    {
      "cell_type": "markdown",
      "metadata": {
        "id": "3wrMfFusNcS6",
        "colab_type": "text"
      },
      "source": [
        "Contoh Jawaban Hasil Pembuatan Model dengan Algoritma DecisionTreeRegressor (Jawaban tidak haru sama) :\n",
        "\n",
        "![image.png](attachment:image.png)"
      ]
    },
    {
      "cell_type": "markdown",
      "metadata": {
        "id": "4Vs7RhxRNcS_",
        "colab_type": "text"
      },
      "source": [
        "Contoh Jawaban Parameters (Tidak Harus Sama) :\n",
        "\n",
        "- Feature Importance : array([1.])\n",
        "- n features : 1\n",
        "  \n",
        "Tree Graph :\n",
        "\n",
        "![image.png](attachment:image.png)"
      ]
    }
  ]
}