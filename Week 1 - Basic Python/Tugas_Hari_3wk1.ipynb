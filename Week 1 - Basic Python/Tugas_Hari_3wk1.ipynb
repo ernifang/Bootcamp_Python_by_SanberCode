{
  "nbformat": 4,
  "nbformat_minor": 0,
  "metadata": {
    "kernelspec": {
      "display_name": "Python 3",
      "language": "python",
      "name": "python3"
    },
    "language_info": {
      "codemirror_mode": {
        "name": "ipython",
        "version": 3
      },
      "file_extension": ".py",
      "mimetype": "text/x-python",
      "name": "python",
      "nbconvert_exporter": "python",
      "pygments_lexer": "ipython3",
      "version": "3.7.7"
    },
    "colab": {
      "name": "Tugas Hari 3wk1.ipynb",
      "provenance": [],
      "include_colab_link": true
    }
  },
  "cells": [
    {
      "cell_type": "markdown",
      "metadata": {
        "id": "view-in-github",
        "colab_type": "text"
      },
      "source": [
        "<a href=\"https://colab.research.google.com/github/ernifang/Bootcamp_Python_by_SanberCode/blob/main/Tugas_Hari_3wk1.ipynb\" target=\"_parent\"><img src=\"https://colab.research.google.com/assets/colab-badge.svg\" alt=\"Open In Colab\"/></a>"
      ]
    },
    {
      "cell_type": "markdown",
      "metadata": {
        "id": "a9HYUdCUsrKl"
      },
      "source": [
        "<h2>Soal 1: Comparison Operator</h2>\n",
        "\n",
        "- Berikan contoh comparison dari tipe data string\n",
        "- Berikan contoh comparison dari tipe data boolean\n",
        "- Berikan contoh comparison dari tipe data integer"
      ]
    },
    {
      "cell_type": "code",
      "metadata": {
        "id": "lXMCHZ71srKp",
        "colab": {
          "base_uri": "https://localhost:8080/"
        },
        "outputId": "7ced6f13-51bb-4a2b-9473-36b55225c095"
      },
      "source": [
        "#comparison dari tipe data string\n",
        "print('erni'=='Erni')\n",
        "#comparison dari tipe data boolean\n",
        "print(True != True)\n",
        "#comparison dari tipe data integer\n",
        "print(10 != 5)"
      ],
      "execution_count": null,
      "outputs": [
        {
          "output_type": "stream",
          "text": [
            "False\n",
            "False\n",
            "True\n"
          ],
          "name": "stdout"
        }
      ]
    },
    {
      "cell_type": "markdown",
      "metadata": {
        "id": "IbNoZvVssrK5"
      },
      "source": [
        "<h2>Soal 2: Boolean Comparison</h2>\n",
        "\n",
        "- Berikan contoh gabungan multiple comparison menggunkan Boolean Comparisin 'and'\n",
        "- Berikan contoh gabungan multiple comparison menggunkan Boolean Comparisin 'or'\n",
        "- Berikan contoh gabungan multiple comparison menggunkan Boolean Comparisin 'not'"
      ]
    },
    {
      "cell_type": "code",
      "metadata": {
        "id": "7eU1vPLCsrK7",
        "colab": {
          "base_uri": "https://localhost:8080/"
        },
        "outputId": "9a2342ab-c148-419d-9593-67b9d55f56e7"
      },
      "source": [
        "#multiple comparison menggunkan Boolean Comparisin 'and'\n",
        "a = 'Erni'== 'Erni'\n",
        "b = 'Erni'=='ERNI'\n",
        "if ((a and b)):\n",
        "    print (\"Ini adalah saya\")\n",
        "else:\n",
        "  print (\"Ini bukan saya\")\n",
        "\n",
        "#multiple comparison menggunkan Boolean Comparisin 'or'\n",
        "if ((a or b)):\n",
        "    print (\"Ini adalah saya\")\n",
        "else:\n",
        "  print (\"Ini bukan saya\")\n",
        "#multiple comparison menggunkan Boolean Comparisin 'not'\n",
        "if (not b):\n",
        "    print (\"Ini adalah saya\")\n",
        "else:\n",
        "  print (\"Ini bukan saya\")\n"
      ],
      "execution_count": null,
      "outputs": [
        {
          "output_type": "stream",
          "text": [
            "Ini bukan saya\n",
            "Ini adalah saya\n",
            "Ini adalah saya\n"
          ],
          "name": "stdout"
        }
      ]
    },
    {
      "cell_type": "markdown",
      "metadata": {
        "id": "Yp_g_sPMsrLH"
      },
      "source": [
        "<h2>Soal 3: If-Else Statement</h2>\n",
        "\n",
        "Lengkapi kode untuk menghasilkan suatu output yang di harapkan\n",
        "\n",
        "- Bualah sebuah if-else statement yang dimana akan mem-print 'Besar' jika ruangan adalah 'Kamar' dan ukuran lebih dari 12, kemudian mem-print 'Sedang' jika ruangan adalah 'Kamar' dan ukuran lebih dari 6 dan memprint 'Kecil' jika ruangan adalah 'Kamar' dan ukuran ruangan lebih kecil dan sama dengan 6."
      ]
    },
    {
      "cell_type": "code",
      "metadata": {
        "id": "euRiRNupsrLK",
        "colab": {
          "base_uri": "https://localhost:8080/"
        },
        "outputId": "818b8b58-e447-44bb-a891-519232c45503"
      },
      "source": [
        "ruangan = 'Kamar'\n",
        "size = 20\n",
        "\n",
        "if (ruangan == 'Kamar' and size > 12):\n",
        "    print('Besar')\n",
        "elif (ruangan == 'Kamar' and size > 6):\n",
        "    print('Sedang')\n",
        "elif (ruangan == 'Kamar' and size <= 6):\n",
        "    print('Kecil')\n",
        "else:\n",
        "    print('Bukan Kamar')"
      ],
      "execution_count": null,
      "outputs": [
        {
          "output_type": "stream",
          "text": [
            "Besar\n"
          ],
          "name": "stdout"
        }
      ]
    },
    {
      "cell_type": "markdown",
      "metadata": {
        "id": "IcoJXJT1srLW"
      },
      "source": [
        "<h2>Soal 4: Comparison Operator dengan fungsi</h2>\n",
        "\n",
        "Buatlah sebuah fungsi yang menerima satu argument bertipe data numeric dan menghasilkan sebuah return sebagai berikut :\n",
        "- menghasilkan return 'Aneh' jika nilai dari argument tersebut adalah bilangan ganjil\n",
        "- menghasilkan return 'Tidak Aneh' jika nilai dari argument tersebut adalah bilangan genap dan diantara nilai 2 sampai 5 (2 dan 5 termasuk)\n",
        "- menghasilkan return 'Aneh' jika nilai dari argument tersebut adalah bilangan genap dan diantara nilai 6 sampai 20 (6 dan 20 termasuk)\n",
        "- menghasilkan return 'Tidak Aneh' jika nilai dari argument tersebut adalah bilangan genap dan lebih besari dari 20"
      ]
    },
    {
      "cell_type": "code",
      "metadata": {
        "id": "g8F_qfEKsrLZ",
        "colab": {
          "base_uri": "https://localhost:8080/"
        },
        "outputId": "0adbee2f-f808-46f6-ee26-e5d87c3d8049"
      },
      "source": [
        "# Buat fungsi\n",
        "def numeric(angka):\n",
        "  if angka%2!=0:\n",
        "    hasil=('Aneh')\n",
        "  elif angka%2==0:\n",
        "    if 2<=(angka)>=5:\n",
        "      hasil=('Tidak Aneh')\n",
        "    elif 6 <=(angka)>=20:\n",
        "      hasil=('Aneh')\n",
        "    elif angka > 20:\n",
        "      hasil=('Tidak Aneh')\n",
        "  return hasil\n",
        "print(numeric(22))"
      ],
      "execution_count": null,
      "outputs": [
        {
          "output_type": "stream",
          "text": [
            "Tidak Aneh\n"
          ],
          "name": "stdout"
        }
      ]
    },
    {
      "cell_type": "markdown",
      "metadata": {
        "id": "gf0D64xOsrLl"
      },
      "source": [
        "<h2>Soal 5: While Loop dan For Loop</h2>\n",
        "\n",
        "- Apa perbedaan while loop dan for loop?\n",
        "- Berikan contoh sederhana cara menggunakan while loop dan for loop"
      ]
    },
    {
      "cell_type": "markdown",
      "metadata": {
        "id": "VUvdYN89OZB9"
      },
      "source": [
        "Perbedaan While loop dan For loop\n",
        "1. While loop\n",
        "- perulangan \"while\" disebut uncounted loop (perulangan yang tak terhitung)\n",
        "-  while untuk perulangan yang memiliki syarat dan tidak tentu berapa banyak perulangannya\n",
        "\n",
        "2. For loop\n",
        "- Perulangan \"for\" sering disebut counted loop (perulangan yang terhitung)\n",
        "- perulangan for biasanya digunakan untuk mengulangi kode yang sudah diketahui banyak perulangannya"
      ]
    },
    {
      "cell_type": "code",
      "metadata": {
        "id": "l7KIgpjHsrLo",
        "colab": {
          "base_uri": "https://localhost:8080/"
        },
        "outputId": "36a93b1d-c547-42f7-f1bc-af9bab9f831d"
      },
      "source": [
        "# Tulis Kode\n",
        "# While loop\n",
        "i = 1\n",
        "while i < 50:\n",
        "  print(i)\n",
        "  i = i + 3\n",
        "# For loop\n",
        "buah = ['Durian','Mangga','Salak','Pepaya','Apel']\n",
        "for suka in buah:\n",
        "  print('Buah kesukaanku adalah',suka)"
      ],
      "execution_count": null,
      "outputs": [
        {
          "output_type": "stream",
          "text": [
            "1\n",
            "4\n",
            "7\n",
            "10\n",
            "13\n",
            "16\n",
            "19\n",
            "22\n",
            "25\n",
            "28\n",
            "31\n",
            "34\n",
            "37\n",
            "40\n",
            "43\n",
            "46\n",
            "49\n",
            "Buah kesukaanku adalah Durian\n",
            "Buah kesukaanku adalah Mangga\n",
            "Buah kesukaanku adalah Salak\n",
            "Buah kesukaanku adalah Pepaya\n",
            "Buah kesukaanku adalah Apel\n"
          ],
          "name": "stdout"
        }
      ]
    },
    {
      "cell_type": "markdown",
      "metadata": {
        "id": "fZQpBGCgsrLz"
      },
      "source": [
        "<h2>Soal 6: While Loop</h2>\n",
        "    \n",
        "Buatlah sebuah code while loop sebagai berikut :\n",
        "- Buatlah suatu fungsi yang merima satu input nilai numeric\n",
        "- Dalam fungsi, Buat sebuah while-loop dengan melakukan comparasi terhadap inputan tersebut, dimana looping/iterasi terus berjalan apabila nilai inputan tidak sama dengan 0\n",
        "- Dalam setiap iterasi update nilai variable inputan itu, jika input lebih dari 0, maka kurangi variabel tersebut sebesar 1, selain itu tambahkan 1\n",
        "- print nilai variable input dalam setiap awal iterasi"
      ]
    },
    {
      "cell_type": "code",
      "metadata": {
        "id": "yOiqjrU2srL1",
        "colab": {
          "base_uri": "https://localhost:8080/"
        },
        "outputId": "e901a349-05c8-48d8-928b-87465d552cb2"
      },
      "source": [
        "a = 10\n",
        "\n",
        "def fungsi_while(angka):\n",
        "   while angka != 0:\n",
        "      print(angka)\n",
        "      angka-=1\n",
        "fungsi_while(a)"
      ],
      "execution_count": null,
      "outputs": [
        {
          "output_type": "stream",
          "text": [
            "10\n",
            "9\n",
            "8\n",
            "7\n",
            "6\n",
            "5\n",
            "4\n",
            "3\n",
            "2\n",
            "1\n"
          ],
          "name": "stdout"
        }
      ]
    },
    {
      "cell_type": "markdown",
      "metadata": {
        "id": "lKzngRrlsrMD"
      },
      "source": [
        "Expected Output:\n",
        "\n",
        "10\n",
        "\n",
        "9\n",
        "\n",
        "8\n",
        "\n",
        "7\n",
        "\n",
        "6\n",
        "\n",
        "5\n",
        "\n",
        "4\n",
        "\n",
        "3\n",
        "\n",
        "2\n",
        "\n",
        "1"
      ]
    },
    {
      "cell_type": "markdown",
      "metadata": {
        "id": "IWg3Z_zZsrMG"
      },
      "source": [
        "<h2>Soal 7: For Loop</h2>\n",
        "    \n",
        "Lengkapi kode untuk menghasilkan suatu output yang di harapkan:\n",
        "\n",
        "- Buatlah sebuah loop dengan mengiterasi sebuah objek list kemudian di kalikan dengan index dari list tersebut dan print hasilnya"
      ]
    },
    {
      "cell_type": "code",
      "metadata": {
        "id": "_Jl5i7WKsrMI",
        "colab": {
          "base_uri": "https://localhost:8080/"
        },
        "outputId": "6c49cfc5-9531-4595-d829-bb5801ccb45b"
      },
      "source": [
        "obj_list= [1, 16, 11, 10, 5]\n",
        "\n",
        "# lengkapi code di bawah\n",
        "for index, obj in enumerate(obj_list):\n",
        "    print(index*obj)\n"
      ],
      "execution_count": null,
      "outputs": [
        {
          "output_type": "stream",
          "text": [
            "0\n",
            "16\n",
            "22\n",
            "30\n",
            "20\n"
          ],
          "name": "stdout"
        }
      ]
    },
    {
      "cell_type": "markdown",
      "metadata": {
        "id": "OGawROjnsrMU"
      },
      "source": [
        "Expected Output:\n",
        "\n",
        "0\n",
        "\n",
        "16\n",
        "\n",
        "22\n",
        "\n",
        "30\n",
        "\n",
        "20\n"
      ]
    }
  ]
}