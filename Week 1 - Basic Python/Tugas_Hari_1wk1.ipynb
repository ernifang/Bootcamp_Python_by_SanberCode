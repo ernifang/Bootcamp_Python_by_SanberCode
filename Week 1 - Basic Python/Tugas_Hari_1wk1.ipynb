{
  "nbformat": 4,
  "nbformat_minor": 0,
  "metadata": {
    "kernelspec": {
      "display_name": "Python 3",
      "language": "python",
      "name": "python3"
    },
    "language_info": {
      "codemirror_mode": {
        "name": "ipython",
        "version": 3
      },
      "file_extension": ".py",
      "mimetype": "text/x-python",
      "name": "python",
      "nbconvert_exporter": "python",
      "pygments_lexer": "ipython3",
      "version": "3.7.7"
    },
    "colab": {
      "name": "Tugas Hari 1wk1.ipynb",
      "provenance": [],
      "include_colab_link": true
    }
  },
  "cells": [
    {
      "cell_type": "markdown",
      "metadata": {
        "id": "view-in-github",
        "colab_type": "text"
      },
      "source": [
        "<a href=\"https://colab.research.google.com/github/ernifang/Bootcamp_Python_by_SanberCode/blob/main/Week%201%20-%20Basic%20Python/Tugas_Hari_1wk1.ipynb\" target=\"_parent\"><img src=\"https://colab.research.google.com/assets/colab-badge.svg\" alt=\"Open In Colab\"/></a>"
      ]
    },
    {
      "cell_type": "markdown",
      "metadata": {
        "id": "37V7ZOpEwt-6"
      },
      "source": [
        "<h2>Soal 1: Hello World to Python</h2>\n",
        "    \n",
        "Print Say Hello World to Python"
      ]
    },
    {
      "cell_type": "code",
      "metadata": {
        "id": "a4yR8AILwt-8",
        "colab": {
          "base_uri": "https://localhost:8080/"
        },
        "outputId": "d30ccb14-d03b-4fdb-f5ae-47ba745e124f"
      },
      "source": [
        "print('Hello World Python')"
      ],
      "execution_count": null,
      "outputs": [
        {
          "output_type": "stream",
          "text": [
            "Hello World Python\n"
          ],
          "name": "stdout"
        }
      ]
    },
    {
      "cell_type": "markdown",
      "metadata": {
        "id": "fftihhaUwt_B"
      },
      "source": [
        "Expected Output : \n",
        "\n",
        "Hello World Python"
      ]
    },
    {
      "cell_type": "markdown",
      "metadata": {
        "id": "1aEipc1Swt_C"
      },
      "source": [
        "<h2>Soal 2: Aritmatika di Python </h2>\n",
        "    \n",
        "- Buat statement pertambahan antara 2 number di Python\n",
        "- Buat statement perkurangan antara 2 number di Python\n",
        "- Buat statement perkalian antara 2 number di Python\n",
        "- Buat statement pembagian antara 2 number di Python"
      ]
    },
    {
      "cell_type": "code",
      "metadata": {
        "id": "hOlCjZzrwt_D",
        "colab": {
          "base_uri": "https://localhost:8080/"
        },
        "outputId": "5606773e-5e54-4116-e723-7cc70843535f"
      },
      "source": [
        "a = 100\n",
        "b = 25\n",
        "print(a+b) \n",
        "print(a-b) \n",
        "print(a*b) \n",
        "print(a/b) \n"
      ],
      "execution_count": null,
      "outputs": [
        {
          "output_type": "stream",
          "text": [
            "125\n",
            "75\n",
            "2500\n",
            "4.0\n"
          ],
          "name": "stdout"
        }
      ]
    },
    {
      "cell_type": "markdown",
      "metadata": {
        "id": "DgUFNMtZwt_G"
      },
      "source": [
        "<h2>Quiz 3: Assign Variable dan Tipe Data Integer, Float </h2>\n",
        "\n",
        "- Buat suatu variabel a dan b, dimana a dan b adalah nilai bertipe data numeric\n",
        "- Berikan suatu nilai bertipe data integer, hasil pembagian dari a dengan b\n",
        "- Berikan suatu nilai bertipe data float, hasil pembagian dari a dengan b"
      ]
    },
    {
      "cell_type": "code",
      "metadata": {
        "id": "Qf8wzMg5wt_H",
        "colab": {
          "base_uri": "https://localhost:8080/"
        },
        "outputId": "ff13a5ab-0f03-45e1-e598-8ce0b5503991"
      },
      "source": [
        "a = 10\n",
        "b = 5\n",
        "# pembagian nilai a dengan b yang bertipe data integer\n",
        "print(int(a/b)) \n",
        "print(a//b)\n",
        "# pembagian nilai a dengan b yang bertipe data float\n",
        "print(float(a/b))\n",
        "print(a/b)"
      ],
      "execution_count": null,
      "outputs": [
        {
          "output_type": "stream",
          "text": [
            "2\n",
            "2\n",
            "2.0\n",
            "2.0\n",
            "2.0\n"
          ],
          "name": "stdout"
        }
      ]
    },
    {
      "cell_type": "markdown",
      "metadata": {
        "id": "XmjLgW7Zwt_L"
      },
      "source": [
        "<h2>Soal 4: String Operation </h2>\n",
        "\n",
        "- masukan nama depan kamu kedalam suatu variable firstname\n",
        "- masukan nama belakang kamu kedalam suatu variable lasname\n",
        "- tampilkan suatu kalimat 'Hello sanbercode, saya firstname lastname! saya siap belajar python data science.'"
      ]
    },
    {
      "cell_type": "code",
      "metadata": {
        "id": "lSRwZ7xXwt_M",
        "colab": {
          "base_uri": "https://localhost:8080/"
        },
        "outputId": "6a021659-0ccd-4b03-e8d6-3289dba62446"
      },
      "source": [
        "firstname ='Erni'\n",
        "lastname = 'Fang'\n",
        "print('Hello sanbercode, saya '+firstname+' '+lastname+'! saya siap belajar python data science.')"
      ],
      "execution_count": null,
      "outputs": [
        {
          "output_type": "stream",
          "text": [
            "Hello sanbercode, saya Erni Fang! saya siap belajar python data science.\n"
          ],
          "name": "stdout"
        }
      ]
    },
    {
      "cell_type": "markdown",
      "metadata": {
        "id": "0ROQJqBXwt_Q"
      },
      "source": [
        "Expected Output :\n",
        "\n",
        "Hello sanbercode, saya fauzan taufik! saya siap belajar python data science."
      ]
    },
    {
      "cell_type": "markdown",
      "metadata": {
        "id": "9DaWI8xdwt_Q"
      },
      "source": [
        "<h2>Soal 5: Tipe Data</h2>\n",
        "\n",
        "Lengkapi code di bawah ini untuk menghasilkan output yang sesuai"
      ]
    },
    {
      "cell_type": "code",
      "metadata": {
        "id": "wcDbgbjTwt_R"
      },
      "source": [
        "p = 9.99999\n",
        "q = 'the number: '\n",
        "print(q + ...(p))"
      ],
      "execution_count": null,
      "outputs": []
    },
    {
      "cell_type": "code",
      "metadata": {
        "colab": {
          "base_uri": "https://localhost:8080/"
        },
        "id": "ybIsAJRYT5xx",
        "outputId": "0c422ba9-f8fe-4adb-ab7e-9f2344d2b413"
      },
      "source": [
        "p = 9.99999\n",
        "q = 'the number: '\n",
        "print(q +(str(p)))"
      ],
      "execution_count": null,
      "outputs": [
        {
          "output_type": "stream",
          "text": [
            "the number: 9.99999\n"
          ],
          "name": "stdout"
        }
      ]
    },
    {
      "cell_type": "markdown",
      "metadata": {
        "id": "wdVRjDoLwt_V"
      },
      "source": [
        "Expected Output :\n",
        "\n",
        "the number: 9.99999"
      ]
    }
  ]
}