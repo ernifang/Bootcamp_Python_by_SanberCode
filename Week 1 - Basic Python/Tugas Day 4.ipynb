{
  "nbformat": 4,
  "nbformat_minor": 0,
  "metadata": {
    "kernelspec": {
      "display_name": "Python 3",
      "language": "python",
      "name": "python3"
    },
    "language_info": {
      "codemirror_mode": {
        "name": "ipython",
        "version": 3
      },
      "file_extension": ".py",
      "mimetype": "text/x-python",
      "name": "python",
      "nbconvert_exporter": "python",
      "pygments_lexer": "ipython3",
      "version": "3.7.7"
    },
    "colab": {
      "name": "nanangtheshadow7@gmail.com.ipynb",
      "provenance": [],
      "collapsed_sections": []
    }
  },
  "cells": [
    {
      "cell_type": "markdown",
      "metadata": {
        "id": "a9HYUdCUsrKl",
        "colab_type": "text"
      },
      "source": [
        "<h2>Quiz 1 : Comparison Operator</h2>\n",
        "\n",
        "- Berikan contoh comparison dari tipe data string\n",
        "- Berikan contoh comparison dari tipe data boolean\n",
        "- Berikan contoh comparison dari tipe data integer"
      ]
    },
    {
      "cell_type": "code",
      "metadata": {
        "id": "lXMCHZ71srKp",
        "colab_type": "code",
        "outputId": "a09cf785-0742-431e-f33d-556f6a2513ab",
        "colab": {
          "base_uri": "https://localhost:8080/",
          "height": 70
        }
      },
      "source": [
        "print('Makan'=='Minum')\n",
        "x = 4<6 #true\n",
        "y = 4<5 #true\n",
        "print(x == y)\n",
        "print(50 > 30)"
      ],
      "execution_count": 0,
      "outputs": [
        {
          "output_type": "stream",
          "text": [
            "False\n",
            "True\n",
            "True\n"
          ],
          "name": "stdout"
        }
      ]
    },
    {
      "cell_type": "markdown",
      "metadata": {
        "id": "IbNoZvVssrK5",
        "colab_type": "text"
      },
      "source": [
        "<h2>Quiz 2 : Boolean Comparison</h2>\n",
        "\n",
        "- Berikan contoh gabungan multiple comparison menggunkan Boolean Comparisin 'and'\n",
        "- Berikan contoh gabungan multiple comparison menggunkan Boolean Comparisin 'or'\n",
        "- Berikan contoh gabungan multiple comparison menggunkan Boolean Comparisin 'not'"
      ]
    },
    {
      "cell_type": "code",
      "metadata": {
        "id": "7eU1vPLCsrK7",
        "colab_type": "code",
        "outputId": "b6dec7ed-0a5e-4cdf-9646-50abe7fa3b65",
        "colab": {
          "base_uri": "https://localhost:8080/",
          "height": 70
        }
      },
      "source": [
        "print(5>3 and 3<5)\n",
        "print(2>10 or 10<2)\n",
        "print(not(5>10))"
      ],
      "execution_count": 0,
      "outputs": [
        {
          "output_type": "stream",
          "text": [
            "True\n",
            "False\n",
            "True\n"
          ],
          "name": "stdout"
        }
      ]
    },
    {
      "cell_type": "markdown",
      "metadata": {
        "id": "Yp_g_sPMsrLH",
        "colab_type": "text"
      },
      "source": [
        "<h2>Quiz 3 : If-Else Statement</h2>\n",
        "\n",
        "Lengkapi kode untuk menghasilkan suatu output yang di harapkan\n",
        "\n",
        "- Bualah sebuah if-else statement yang dimana akan mem-print 'Besar' jika ruangan adalah 'Kamar' dan ukuran lebih dari 12, kemudian mem-print 'Sedang' jika ruangan adalah 'Kamar' dan ukuran lebih dari 6 dan memprint 'Kecil' jika ruangan adalah 'Kamar' dan ukuran ruangan lebih kecil dan sama dengan 6."
      ]
    },
    {
      "cell_type": "code",
      "metadata": {
        "id": "euRiRNupsrLK",
        "colab_type": "code",
        "outputId": "48e2e8b2-4288-4456-d649-647c9e03c116",
        "colab": {
          "base_uri": "https://localhost:8080/",
          "height": 34
        }
      },
      "source": [
        "ruangan = 'Kamar'\n",
        "size = 20\n",
        "\n",
        "if ruangan == 'Kamar' and size > 12:\n",
        "    print('Besar')\n",
        "elif ruangan == 'Kamar' and size > 6: \n",
        "    print('Sedang')\n",
        "elif ruangan == 'Kamar' and size <= 6:\n",
        "    print('Kecil')"
      ],
      "execution_count": 0,
      "outputs": [
        {
          "output_type": "stream",
          "text": [
            "Besar\n"
          ],
          "name": "stdout"
        }
      ]
    },
    {
      "cell_type": "markdown",
      "metadata": {
        "id": "IcoJXJT1srLW",
        "colab_type": "text"
      },
      "source": [
        "<h2>Quiz 4 : Comparison Operator dengan fungsi</h2>\n",
        "\n",
        "Buatlah sebuah fungsi yang menerima satu argument bertipe data numeric dan menghasilkan sebuah return sebagai berikut :\n",
        "- menghasilkan return 'Aneh' jika nilai dari argument tersebut adalah bilangan ganjil\n",
        "- menghasilkan return 'Tidak Aneh' jika nilai dari argument tersebut adalah bilangan genap dan diantara nilai 2 sampai 5 (2 dan 5 termasuk)\n",
        "- menghasilkan return 'Aneh' jika nilai dari argument tersebut adalah bilangan genap dan diantara nilai 6 sampai 20 (6 dan 20 termasuk)\n",
        "- menghasilkan return 'Tidak Aneh' jika nilai dari argument tersebut adalah bilangan genap dan lebih besari dari 20"
      ]
    },
    {
      "cell_type": "code",
      "metadata": {
        "id": "g8F_qfEKsrLZ",
        "colab_type": "code",
        "outputId": "10eefc84-b47f-490f-c377-6587b5fa7509",
        "colab": {
          "base_uri": "https://localhost:8080/",
          "height": 34
        }
      },
      "source": [
        "# Buat fungsi\n",
        "def aneh(x):\n",
        "  if x%2!=0:\n",
        "    return 'Aneh'\n",
        "  elif x%2==0 and x>=2 and x<=5:\n",
        "    return 'Tidak Aneh'\n",
        "  elif x%2==0 and x>=6 and x<=20:\n",
        "    return 'Aneh'\n",
        "  elif x%2==0 and x>20:\n",
        "    return 'Tidak Aneh'\n",
        "\n",
        "\n",
        "aneh(5)"
      ],
      "execution_count": 0,
      "outputs": [
        {
          "output_type": "execute_result",
          "data": {
            "text/plain": [
              "'Aneh'"
            ]
          },
          "metadata": {
            "tags": []
          },
          "execution_count": 36
        }
      ]
    },
    {
      "cell_type": "markdown",
      "metadata": {
        "id": "gf0D64xOsrLl",
        "colab_type": "text"
      },
      "source": [
        "<h2>Quiz 5 : While Loop dan For Loop</h2>\n",
        "\n",
        "- Apa perbedaan while loop dan for loop?\n",
        "- Berikan contoh sederhana cara menggunakan while loop dan for loop\n",
        "\n",
        "Jawab:\n",
        "Jika for loop adalah perulangan berdasar jumlah elemen, while loop melakukan perulangan selama statement/ kondisi pada while loop tersebut benar/ TRUE.\n",
        "\n"
      ]
    },
    {
      "cell_type": "code",
      "metadata": {
        "id": "l7KIgpjHsrLo",
        "colab_type": "code",
        "outputId": "43927e77-5289-40a2-a91c-a01101d07eed",
        "colab": {
          "base_uri": "https://localhost:8080/",
          "height": 193
        }
      },
      "source": [
        "# Tulis Kode\n",
        "#while loop\n",
        "i=1\n",
        "while i<=5:\n",
        "  print(\"ayam ke-\"+str(i))\n",
        "  i=i+1\n",
        "\n",
        "#forloop\n",
        "x=0\n",
        "for x in range(5):\n",
        "  print(\"ini angka : \"+str(x))"
      ],
      "execution_count": 0,
      "outputs": [
        {
          "output_type": "stream",
          "text": [
            "ayam ke-1\n",
            "ayam ke-2\n",
            "ayam ke-3\n",
            "ayam ke-4\n",
            "ayam ke-5\n",
            "ini angka : 0\n",
            "ini angka : 1\n",
            "ini angka : 2\n",
            "ini angka : 3\n",
            "ini angka : 4\n"
          ],
          "name": "stdout"
        }
      ]
    },
    {
      "cell_type": "markdown",
      "metadata": {
        "id": "fZQpBGCgsrLz",
        "colab_type": "text"
      },
      "source": [
        "<h2>Quiz 6 : While Loop</h2>\n",
        "    \n",
        "Buatlah sebuah code while loop sebagai berikut :\n",
        "- Buatlah suatu fungsi yang merima satu input nilai numeric\n",
        "- Dalam fungsi, Buat sebuah while-loop dengan melakukan comparasi terhadap inputan tersebut, dimana looping/iterasi terus berjalan apabila nilai inputan tidak sama dengan 0\n",
        "- Dalam setiap iterasi update nilai variable inputan itu, jika input lebih dari 0, maka kurangi variabel tersebut sebesar 1, selain itu tambahkan 1\n",
        "- print nilai variable input dalam setiap awal iterasi"
      ]
    },
    {
      "cell_type": "code",
      "metadata": {
        "id": "yOiqjrU2srL1",
        "colab_type": "code",
        "outputId": "0e9ce169-0436-42b8-ed96-fffafcad6e8c",
        "colab": {
          "base_uri": "https://localhost:8080/",
          "height": 193
        }
      },
      "source": [
        "a = 10\n",
        "\n",
        "def fungsi_while(x):\n",
        "    while x != 0:\n",
        "      print(x)\n",
        "      x-=1\n",
        "\n",
        "fungsi_while(a)"
      ],
      "execution_count": 0,
      "outputs": [
        {
          "output_type": "stream",
          "text": [
            "10\n",
            "9\n",
            "8\n",
            "7\n",
            "6\n",
            "5\n",
            "4\n",
            "3\n",
            "2\n",
            "1\n"
          ],
          "name": "stdout"
        }
      ]
    },
    {
      "cell_type": "markdown",
      "metadata": {
        "id": "lKzngRrlsrMD",
        "colab_type": "text"
      },
      "source": [
        "Expected Output :\n",
        "\n",
        "10\n",
        "\n",
        "9\n",
        "\n",
        "8\n",
        "\n",
        "7\n",
        "\n",
        "6\n",
        "\n",
        "5\n",
        "\n",
        "4\n",
        "\n",
        "3\n",
        "\n",
        "2\n",
        "\n",
        "1"
      ]
    },
    {
      "cell_type": "markdown",
      "metadata": {
        "id": "IWg3Z_zZsrMG",
        "colab_type": "text"
      },
      "source": [
        "<h2>Quiz 7 : For Loop</h2>\n",
        "    \n",
        "Lengkapi kode untuk menghasilkan suatu output yang di harapkan:\n",
        "\n",
        "- Buatlah sebuah loop dengan mengiterasi sebuah objek list kemudian di kalikan dengan index dari list tersebut dan print hasilnya"
      ]
    },
    {
      "cell_type": "code",
      "metadata": {
        "id": "_Jl5i7WKsrMI",
        "colab_type": "code",
        "outputId": "e753a9e4-c3c1-43c1-b14a-f30c2c588989",
        "colab": {
          "base_uri": "https://localhost:8080/",
          "height": 105
        }
      },
      "source": [
        "obj_list= [1, 16, 11, 10, 5]\n",
        "\n",
        "# lengkapi code di bawah\n",
        "\n",
        "for i, x in enumerate(obj_list):\n",
        "    print(i*x)\n"
      ],
      "execution_count": 0,
      "outputs": [
        {
          "output_type": "stream",
          "text": [
            "0\n",
            "16\n",
            "22\n",
            "30\n",
            "20\n"
          ],
          "name": "stdout"
        }
      ]
    },
    {
      "cell_type": "markdown",
      "metadata": {
        "id": "OGawROjnsrMU",
        "colab_type": "text"
      },
      "source": [
        "Expected Output :\n",
        "\n",
        "0\n",
        "\n",
        "16\n",
        "\n",
        "22\n",
        "\n",
        "30\n",
        "\n",
        "20\n"
      ]
    }
  ]
}