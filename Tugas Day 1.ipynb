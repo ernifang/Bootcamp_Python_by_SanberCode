{
  "nbformat": 4,
  "nbformat_minor": 0,
  "metadata": {
    "kernelspec": {
      "display_name": "Python 3",
      "language": "python",
      "name": "python3"
    },
    "language_info": {
      "codemirror_mode": {
        "name": "ipython",
        "version": 3
      },
      "file_extension": ".py",
      "mimetype": "text/x-python",
      "name": "python",
      "nbconvert_exporter": "python",
      "pygments_lexer": "ipython3",
      "version": "3.7.7"
    },
    "colab": {
      "name": "nanangtheshadow7@gmail.com.ipynb",
      "provenance": [],
      "collapsed_sections": []
    }
  },
  "cells": [
    {
      "cell_type": "markdown",
      "metadata": {
        "id": "TrOzfVF3v8W1",
        "colab_type": "text"
      },
      "source": [
        "<h2>Quiz 1 : Hello World to Python</h2>\n",
        "    \n",
        "Print Say Hello World to Python"
      ]
    },
    {
      "cell_type": "code",
      "metadata": {
        "id": "9iHVfegPv8W3",
        "colab_type": "code",
        "outputId": "b5b30e33-c101-4088-d37d-c53612ad72ae",
        "colab": {
          "base_uri": "https://localhost:8080/",
          "height": 34
        }
      },
      "source": [
        "print(\"Hello World Python\")"
      ],
      "execution_count": 0,
      "outputs": [
        {
          "output_type": "stream",
          "text": [
            "Hello World Python\n"
          ],
          "name": "stdout"
        }
      ]
    },
    {
      "cell_type": "markdown",
      "metadata": {
        "id": "FWvvsaX8v8XU",
        "colab_type": "text"
      },
      "source": [
        "Expected Output : \n",
        "\n",
        "Hello World Python"
      ]
    },
    {
      "cell_type": "markdown",
      "metadata": {
        "id": "jJ6Ur8_5v8XX",
        "colab_type": "text"
      },
      "source": [
        "<h2>Quiz 2 : Aritmatika di Python </h2>\n",
        "    \n",
        "- Buat statement pertambahan antara 2 number di Python\n",
        "- Buat statement perkurangan antara 2 number di Python\n",
        "- Buat statement perkalian antara 2 number di Python\n",
        "- Buat statement pembagian antara 2 number di Python"
      ]
    },
    {
      "cell_type": "code",
      "metadata": {
        "id": "JNdm-MKPv8Xa",
        "colab_type": "code",
        "outputId": "00c74210-3a1e-4e60-9d1d-d5c093bfd16b",
        "colab": {
          "base_uri": "https://localhost:8080/",
          "height": 87
        }
      },
      "source": [
        "a = 2 + 3\n",
        "print(\"hasil Pertambahan antara 2 Number : %d\" %a)\n",
        "b = 5 - 2\n",
        "print(\"hasil perkurangan antara 2 Number : %d\" %b)\n",
        "c = 4 * 5\n",
        "print(\"hasil perkalian antara 2 Number : %d\" %c)\n",
        "d = 10 / 2\n",
        "print(\"hasil pembagian antara 2 Number : %d\" %d)"
      ],
      "execution_count": 0,
      "outputs": [
        {
          "output_type": "stream",
          "text": [
            "hasil Pertambahan antara 2 Number : 5\n",
            "hasil perkurangan antara 2 Number : 3\n",
            "hasil perkalian antara 2 Number : 20\n",
            "hasil pembagian antara 2 Number : 5\n"
          ],
          "name": "stdout"
        }
      ]
    },
    {
      "cell_type": "markdown",
      "metadata": {
        "id": "omKg3uupv8Xj",
        "colab_type": "text"
      },
      "source": [
        "<h2>Quiz 3 : Assign Variable dan Tipe Data Integer, Float </h2>\n",
        "\n",
        "- Buat suatu variabel a dan b, dimana a dan b adalah nilai bertipe data numeric\n",
        "- Berikan suatu nilai bertipe data integer, hasil pembagian dari a dengan b\n",
        "- Berikan suatu nilai bertipe data float, hasil pembagian dari a dengan b"
      ]
    },
    {
      "cell_type": "code",
      "metadata": {
        "id": "ccM6h_2uv8Xm",
        "colab_type": "code",
        "outputId": "d7111429-3652-481f-abf3-65179358428c",
        "colab": {
          "base_uri": "https://localhost:8080/",
          "height": 52
        }
      },
      "source": [
        "a = 10\n",
        "b = 3\n",
        "bagi1 = int(a/b)\n",
        "bagi2 = a/b\n",
        "\n",
        "\n",
        "\n",
        "print(\"Hasil bagi tipe Integer %d\" %bagi1 + \" \\nhasil bagi tipe float %f\" %bagi2)\n"
      ],
      "execution_count": 0,
      "outputs": [
        {
          "output_type": "stream",
          "text": [
            "Hasil bagi tipe Integer 3 \n",
            "hasil bagi tipe float 3.333333\n"
          ],
          "name": "stdout"
        }
      ]
    },
    {
      "cell_type": "markdown",
      "metadata": {
        "id": "BaC-LsNKv8Xu",
        "colab_type": "text"
      },
      "source": [
        "<h2>Quiz 4 : String Operation </h2>\n",
        "\n",
        "- masukan nama depan kamu kedalam suatu variable firstname\n",
        "- masukan nama belakang kamu kedalam suatu variable lasname\n",
        "- tampilkan suatu kalimat 'Hello sanbercode, saya firstname lastname! saya siap belajar python data science.'"
      ]
    },
    {
      "cell_type": "code",
      "metadata": {
        "id": "npgHQghrv8Xw",
        "colab_type": "code",
        "outputId": "b0f8b1a4-13d4-4769-f8e3-2814a62d837e",
        "colab": {
          "base_uri": "https://localhost:8080/",
          "height": 34
        }
      },
      "source": [
        "firstname = \"Nanang\"\n",
        "lasname = \"Kasim\"\n",
        "print(\"Hello sanbercode, saya \"+firstname+ \" \" +lasname+ \"! saya siap belajar python data science.\")"
      ],
      "execution_count": 0,
      "outputs": [
        {
          "output_type": "stream",
          "text": [
            "Hello sanbercode, saya Nanang Kasim! saya siap belajar python data science.\n"
          ],
          "name": "stdout"
        }
      ]
    },
    {
      "cell_type": "markdown",
      "metadata": {
        "id": "BFPBadhBv8X3",
        "colab_type": "text"
      },
      "source": [
        "Expected Output :\n",
        "\n",
        "Hello sanbercode, saya fauzan taufik! saya siap belajar python data science."
      ]
    },
    {
      "cell_type": "markdown",
      "metadata": {
        "id": "ZRb5CwYZv8X4",
        "colab_type": "text"
      },
      "source": [
        "<h2>Quiz 5 : Tipe Data</h2>\n",
        "\n",
        "Lengkapi code di bawah ini untuk menghasilkan output yang sesuai"
      ]
    },
    {
      "cell_type": "code",
      "metadata": {
        "id": "mGbG-BP5v8X5",
        "colab_type": "code",
        "outputId": "fe4eb646-aa1a-4c6f-b0d4-9251888ce48b",
        "colab": {
          "base_uri": "https://localhost:8080/",
          "height": 34
        }
      },
      "source": [
        "p = 9.99999\n",
        "q = 'the number : '\n",
        "print(q + str(p))"
      ],
      "execution_count": 0,
      "outputs": [
        {
          "output_type": "stream",
          "text": [
            "the number : 9.99999\n"
          ],
          "name": "stdout"
        }
      ]
    },
    {
      "cell_type": "markdown",
      "metadata": {
        "id": "-isUpK1iv8YA",
        "colab_type": "text"
      },
      "source": [
        "Expected Output :\n",
        "\n",
        "the number : 9.99999"
      ]
    },
    {
      "cell_type": "code",
      "metadata": {
        "id": "F-V9CCRfv8YC",
        "colab_type": "code",
        "colab": {}
      },
      "source": [
        ""
      ],
      "execution_count": 0,
      "outputs": []
    }
  ]
}