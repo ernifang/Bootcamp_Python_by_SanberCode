{
  "nbformat": 4,
  "nbformat_minor": 0,
  "metadata": {
    "kernelspec": {
      "display_name": "Python 3",
      "language": "python",
      "name": "python3"
    },
    "language_info": {
      "codemirror_mode": {
        "name": "ipython",
        "version": 3
      },
      "file_extension": ".py",
      "mimetype": "text/x-python",
      "name": "python",
      "nbconvert_exporter": "python",
      "pygments_lexer": "ipython3",
      "version": "3.7.7"
    },
    "colab": {
      "name": "nanangtheshadow7@gmail.com.ipynb",
      "provenance": [],
      "collapsed_sections": []
    }
  },
  "cells": [
    {
      "cell_type": "markdown",
      "metadata": {
        "id": "I6jmLA-RYrt5",
        "colab_type": "text"
      },
      "source": [
        "<h2>Soal 1 : Helper Function</h2>\n",
        "\n",
        "Jawab Pertanyaan di bawah ini :\n",
        "\n",
        "Misalkan kamu ingin mengetahui tentang kegunaan fungsi 'len' di Python, maka fungsi apa yang bisa kamu gunakan untuk menolong kamu?"
      ]
    },
    {
      "cell_type": "code",
      "metadata": {
        "id": "VrvyQxGJYrt9",
        "colab_type": "code",
        "outputId": "19e763a0-e46c-47b5-9fa2-24dc5078485b",
        "colab": {
          "base_uri": "https://localhost:8080/",
          "height": 105
        }
      },
      "source": [
        "# lengkapi code ini\n",
        "help(len)"
      ],
      "execution_count": 0,
      "outputs": [
        {
          "output_type": "stream",
          "text": [
            "Help on built-in function len in module builtins:\n",
            "\n",
            "len(obj, /)\n",
            "    Return the number of items in a container.\n",
            "\n"
          ],
          "name": "stdout"
        }
      ]
    },
    {
      "cell_type": "markdown",
      "metadata": {
        "id": "KrcuFTuAYruT",
        "colab_type": "text"
      },
      "source": [
        "<h2>Soal 2 : Built-in Function</h2>\n",
        "\n",
        "Jawab Pertanyaan di bawah ini :\n",
        "    \n",
        "Apa itu built-in Function?\n",
        "\n",
        "Sebutkan 3 built-in Function di pyhon!\n",
        "\n",
        "Berikan contoh masing2 1 cara penggunaan built-in function yang kamu sebutkan sebelumnya"
      ]
    },
    {
      "cell_type": "markdown",
      "metadata": {
        "id": "xro-58_CYruW",
        "colab_type": "text"
      },
      "source": [
        "Built-in Function adalah fungsi yang dibangun di dalam python\n",
        "3 built-in function di python\n",
        "\n",
        "1. help()memberi tau fungsi dari suatu fungsi\n",
        "2. len() mencari panjang string\n",
        "3. max() mencari nilai max dalam suatu list"
      ]
    },
    {
      "cell_type": "code",
      "metadata": {
        "id": "Xv7lHkgfYruY",
        "colab_type": "code",
        "outputId": "007065aa-338e-4653-9ba1-541a76384a18",
        "colab": {
          "base_uri": "https://localhost:8080/",
          "height": 140
        }
      },
      "source": [
        "# Contoh penggunaan built in function\n",
        "help(len)\n",
        "\n",
        "kalimat = \"kyoshiro\"\n",
        "print(len(kalimat))\n",
        "\n",
        "x = [1, 5, 9, 20, 21,99]\n",
        "print(max(x))"
      ],
      "execution_count": 0,
      "outputs": [
        {
          "output_type": "stream",
          "text": [
            "Help on built-in function len in module builtins:\n",
            "\n",
            "len(obj, /)\n",
            "    Return the number of items in a container.\n",
            "\n",
            "8\n",
            "99\n"
          ],
          "name": "stdout"
        }
      ]
    },
    {
      "cell_type": "markdown",
      "metadata": {
        "id": "yhWXiPNDYrul",
        "colab_type": "text"
      },
      "source": [
        "<h2>Soal 3 : Method dan Function</h2>\n",
        "\n",
        "Jawab Pertanyaan di bawah ini :\n",
        "    \n",
        "- Apa perbedaan method dan function?"
      ]
    },
    {
      "cell_type": "markdown",
      "metadata": {
        "id": "rqpTJlgDYrun",
        "colab_type": "text"
      },
      "source": [
        "Function adalah sebuah statement yang dibuat di dalam blok dengan cara penulisan yang telah ditentukan, agar dapat digunakan terus menerus. \n",
        "Sedangkan Method adalah suatu fungsi yang dimiliki oleh suatu object.\n",
        "\n"
      ]
    },
    {
      "cell_type": "markdown",
      "metadata": {
        "id": "tUU1xgYBYrup",
        "colab_type": "text"
      },
      "source": [
        "<h2>Soal 4 : Menggunkan Method String</h2>\n",
        "\n",
        "Lengkapi kode untuk menghasilkan suatu output yang di harapkan"
      ]
    },
    {
      "cell_type": "code",
      "metadata": {
        "id": "037gauOGYrur",
        "colab_type": "code",
        "outputId": "52f8a5f9-86af-48e6-c94a-4ff81af43cc3",
        "colab": {
          "base_uri": "https://localhost:8080/",
          "height": 52
        }
      },
      "source": [
        "kalimat = \"Corona cepat selesai\"\n",
        "\n",
        "# gunakan method untuk mengubah nilai kalimat menjadi uppercase semua kemudian tampilkan hasilnya\n",
        "print(kalimat.upper())\n",
        "\n",
        "# gunakan method untuk menghitung berapa huruf e di dalam kalimat\n",
        "print(kalimat.count('e', 0,len(kalimat)))"
      ],
      "execution_count": 0,
      "outputs": [
        {
          "output_type": "stream",
          "text": [
            "CORONA CEPAT SELESAI\n",
            "3\n"
          ],
          "name": "stdout"
        }
      ]
    },
    {
      "cell_type": "markdown",
      "metadata": {
        "id": "fPTd4R5VYru5",
        "colab_type": "text"
      },
      "source": [
        "Expected Output :\n",
        "\n",
        "CORONA CEPAT SELESAI\n",
        "\n",
        "3"
      ]
    },
    {
      "cell_type": "markdown",
      "metadata": {
        "id": "tH44SxdOYru7",
        "colab_type": "text"
      },
      "source": [
        "<h2>Soal 5 : Menggunkan Method List</h2>\n",
        "\n",
        "Lengkapi kode untuk menghasilkan suatu output yang di harapkan"
      ]
    },
    {
      "cell_type": "code",
      "metadata": {
        "id": "Mds3oCEtYru9",
        "colab_type": "code",
        "outputId": "c52f4ef2-c8bb-4444-bc73-b0fbd4dd6f46",
        "colab": {
          "base_uri": "https://localhost:8080/",
          "height": 52
        }
      },
      "source": [
        "areas = [11.25, 18.0, 20.0, 10.75, 9.50]\n",
        "\n",
        "# gunakan suatu method dari object list untuk menampilkan index dari nilai 20\n",
        "print(areas.index(20))\n",
        "\n",
        "# gunakan suatu method dari object list untuk menambahkan nilai 15.5 kedalam list ke index terakhirnya\n",
        "areas.append(15.5)\n",
        "print(areas)"
      ],
      "execution_count": 0,
      "outputs": [
        {
          "output_type": "stream",
          "text": [
            "2\n",
            "[11.25, 18.0, 20.0, 10.75, 9.5, 15.5]\n"
          ],
          "name": "stdout"
        }
      ]
    },
    {
      "cell_type": "markdown",
      "metadata": {
        "id": "1ik5BXfhYrvI",
        "colab_type": "text"
      },
      "source": [
        "Expected Output :\n",
        "\n",
        "2\n",
        "\n",
        "[11.25, 18.0, 20.0, 10.75, 9.50, 15.5]"
      ]
    },
    {
      "cell_type": "markdown",
      "metadata": {
        "id": "IPjp5vwDYrvL",
        "colab_type": "text"
      },
      "source": [
        "<h2>Soal 6 : Membuat Simple Function</h2>\n",
        "\n",
        "Buatlah suatu fungsi yang menerima satu input argumen berbentuk list dan mempunyai elemen bertipe numeric semua, dimana fungsi tersebut berguna untuk menghitung rata2 dari kumpulan elemen list tersebut. namai fungsi tersebut 'mean_list'"
      ]
    },
    {
      "cell_type": "code",
      "metadata": {
        "id": "smoKI9zIYrvO",
        "colab_type": "code",
        "outputId": "48a90411-76ac-4aeb-db21-76244ec5078b",
        "colab": {
          "base_uri": "https://localhost:8080/",
          "height": 34
        }
      },
      "source": [
        "obj_list = [11.25, 18.0, 20.0, 10.75, 9.50]\n",
        "def mean_list(inp_list):\n",
        "   return sum(inp_list)/len(inp_list)\n",
        "    \n",
        "print(mean_list(obj_list))"
      ],
      "execution_count": 0,
      "outputs": [
        {
          "output_type": "stream",
          "text": [
            "13.9\n"
          ],
          "name": "stdout"
        }
      ]
    },
    {
      "cell_type": "markdown",
      "metadata": {
        "id": "MVAvoHHgYrva",
        "colab_type": "text"
      },
      "source": [
        "Expected Output :\n",
        "\n",
        "13.9"
      ]
    },
    {
      "cell_type": "markdown",
      "metadata": {
        "id": "A8jjpNC8Yrvc",
        "colab_type": "text"
      },
      "source": [
        "<h2>Soal 7 : Membuat Function dengan Multiple arguments</h2>\n",
        "\n",
        "Buatlah suatu fungsi untuk melakukan penggabungan antara dua list"
      ]
    },
    {
      "cell_type": "code",
      "metadata": {
        "id": "r42z4mafYrve",
        "colab_type": "code",
        "outputId": "d49e8222-7c2d-403a-bf05-55a215acf73d",
        "colab": {
          "base_uri": "https://localhost:8080/",
          "height": 34
        }
      },
      "source": [
        "obj_list = [2, 4, 5, 6]\n",
        "obj_pengali = [1, 2, 3]\n",
        "def kali_list(a, b):\n",
        "    return a + b\n",
        "    \n",
        "    \n",
        "print(kali_list(obj_list, obj_pengali))"
      ],
      "execution_count": 0,
      "outputs": [
        {
          "output_type": "stream",
          "text": [
            "[2, 4, 5, 6, 1, 2, 3]\n"
          ],
          "name": "stdout"
        }
      ]
    },
    {
      "cell_type": "markdown",
      "metadata": {
        "id": "RYhU921kYrvp",
        "colab_type": "text"
      },
      "source": [
        "Expected Output :\n",
        "\n",
        "[2, 4, 5, 6, 1, 2, 3]"
      ]
    }
  ]
}