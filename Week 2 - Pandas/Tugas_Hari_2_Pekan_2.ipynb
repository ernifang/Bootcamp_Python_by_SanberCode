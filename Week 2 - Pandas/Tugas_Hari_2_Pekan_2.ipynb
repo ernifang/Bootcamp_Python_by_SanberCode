{
  "nbformat": 4,
  "nbformat_minor": 0,
  "metadata": {
    "kernelspec": {
      "display_name": "Python 3",
      "language": "python",
      "name": "python3"
    },
    "language_info": {
      "codemirror_mode": {
        "name": "ipython",
        "version": 3
      },
      "file_extension": ".py",
      "mimetype": "text/x-python",
      "name": "python",
      "nbconvert_exporter": "python",
      "pygments_lexer": "ipython3",
      "version": "3.7.7"
    },
    "colab": {
      "name": "Tugas Hari 2 Pekan 2.ipynb",
      "provenance": [],
      "include_colab_link": true
    }
  },
  "cells": [
    {
      "cell_type": "markdown",
      "metadata": {
        "id": "view-in-github",
        "colab_type": "text"
      },
      "source": [
        "<a href=\"https://colab.research.google.com/github/ernifang/Bootcamp_Python_by_SanberCode/blob/main/Week%202%20-%20Pandas/Tugas_Hari_2_Pekan_2.ipynb\" target=\"_parent\"><img src=\"https://colab.research.google.com/assets/colab-badge.svg\" alt=\"Open In Colab\"/></a>"
      ]
    },
    {
      "cell_type": "code",
      "metadata": {
        "id": "GyakVoXhBGrv",
        "colab": {
          "base_uri": "https://localhost:8080/",
          "height": 204
        },
        "outputId": "bb67ccdb-4e5c-4638-eeae-916e5260678c"
      },
      "source": [
        "# Persiapan membuat data\n",
        "import pandas as pd\n",
        "import random\n",
        "\n",
        "pelajaran = ['Matematika', 'Fisika', 'Biologi', 'Kimia', 'Geologi', 'Ekonomi']\n",
        "kelas = ['12A', '12B', '12C', '12D']\n",
        "\n",
        "hasil_nilai = {\n",
        "    'siswa_id' : range(1, 21),\n",
        "    'pelajaran' : [random.choice(pelajaran) for i in range(20)],\n",
        "    'nilai' : [random.choice(range(0, 100)) for i in range(20)],\n",
        "    'jenis-kelamin' : [random.choice(['laki-laki', 'perempuan']) for i in range(20)],\n",
        "    'kelas' : [random.choice(kelas) for i in range(20)]\n",
        "}\n",
        "\n",
        "df = pd.DataFrame(hasil_nilai)\n",
        "df.head()"
      ],
      "execution_count": 53,
      "outputs": [
        {
          "output_type": "execute_result",
          "data": {
            "text/html": [
              "<div>\n",
              "<style scoped>\n",
              "    .dataframe tbody tr th:only-of-type {\n",
              "        vertical-align: middle;\n",
              "    }\n",
              "\n",
              "    .dataframe tbody tr th {\n",
              "        vertical-align: top;\n",
              "    }\n",
              "\n",
              "    .dataframe thead th {\n",
              "        text-align: right;\n",
              "    }\n",
              "</style>\n",
              "<table border=\"1\" class=\"dataframe\">\n",
              "  <thead>\n",
              "    <tr style=\"text-align: right;\">\n",
              "      <th></th>\n",
              "      <th>siswa_id</th>\n",
              "      <th>pelajaran</th>\n",
              "      <th>nilai</th>\n",
              "      <th>jenis-kelamin</th>\n",
              "      <th>kelas</th>\n",
              "    </tr>\n",
              "  </thead>\n",
              "  <tbody>\n",
              "    <tr>\n",
              "      <th>0</th>\n",
              "      <td>1</td>\n",
              "      <td>Fisika</td>\n",
              "      <td>40</td>\n",
              "      <td>perempuan</td>\n",
              "      <td>12C</td>\n",
              "    </tr>\n",
              "    <tr>\n",
              "      <th>1</th>\n",
              "      <td>2</td>\n",
              "      <td>Kimia</td>\n",
              "      <td>51</td>\n",
              "      <td>perempuan</td>\n",
              "      <td>12C</td>\n",
              "    </tr>\n",
              "    <tr>\n",
              "      <th>2</th>\n",
              "      <td>3</td>\n",
              "      <td>Kimia</td>\n",
              "      <td>86</td>\n",
              "      <td>perempuan</td>\n",
              "      <td>12D</td>\n",
              "    </tr>\n",
              "    <tr>\n",
              "      <th>3</th>\n",
              "      <td>4</td>\n",
              "      <td>Kimia</td>\n",
              "      <td>97</td>\n",
              "      <td>laki-laki</td>\n",
              "      <td>12B</td>\n",
              "    </tr>\n",
              "    <tr>\n",
              "      <th>4</th>\n",
              "      <td>5</td>\n",
              "      <td>Kimia</td>\n",
              "      <td>43</td>\n",
              "      <td>perempuan</td>\n",
              "      <td>12C</td>\n",
              "    </tr>\n",
              "  </tbody>\n",
              "</table>\n",
              "</div>"
            ],
            "text/plain": [
              "   siswa_id pelajaran  nilai jenis-kelamin kelas\n",
              "0         1    Fisika     40     perempuan   12C\n",
              "1         2     Kimia     51     perempuan   12C\n",
              "2         3     Kimia     86     perempuan   12D\n",
              "3         4     Kimia     97     laki-laki   12B\n",
              "4         5     Kimia     43     perempuan   12C"
            ]
          },
          "metadata": {
            "tags": []
          },
          "execution_count": 53
        }
      ]
    },
    {
      "cell_type": "markdown",
      "metadata": {
        "id": "aNoScqypBGr5"
      },
      "source": [
        "<h2>Soal 1: Indexing</h2>\n",
        "\n",
        "1. Lakukan indexing terhadap dataframe untuk mengakses column nilai dan kelas saja\n",
        "2. Lakukan indexing terhadap dataframe untuk mengakses row 5 sampai 10 beserta column pelajaran dan nilai"
      ]
    },
    {
      "cell_type": "code",
      "metadata": {
        "id": "rKmgvnS2BGr6",
        "colab": {
          "base_uri": "https://localhost:8080/"
        },
        "outputId": "4d29368a-a296-43a9-b3c0-2e0103f68f83"
      },
      "source": [
        "# code here\n",
        "print(df[['nilai','kelas']])\n",
        "print(df.loc[5:10,'pelajaran':'nilai'])\n"
      ],
      "execution_count": 54,
      "outputs": [
        {
          "output_type": "stream",
          "text": [
            "    nilai kelas\n",
            "0      40   12C\n",
            "1      51   12C\n",
            "2      86   12D\n",
            "3      97   12B\n",
            "4      43   12C\n",
            "5      84   12D\n",
            "6      11   12D\n",
            "7      83   12B\n",
            "8      83   12A\n",
            "9      72   12C\n",
            "10     47   12D\n",
            "11     34   12D\n",
            "12     64   12B\n",
            "13     67   12A\n",
            "14     24   12A\n",
            "15     50   12B\n",
            "16     60   12C\n",
            "17     24   12C\n",
            "18     16   12C\n",
            "19     53   12D\n",
            "     pelajaran  nilai\n",
            "5      Geologi     84\n",
            "6   Matematika     11\n",
            "7      Ekonomi     83\n",
            "8      Biologi     83\n",
            "9   Matematika     72\n",
            "10      Fisika     47\n"
          ],
          "name": "stdout"
        }
      ]
    },
    {
      "cell_type": "markdown",
      "metadata": {
        "id": "F55zUl5GBGr_"
      },
      "source": [
        "<h2>Soal 2: Filter DataFrame Dengan Boolean</h2>\n",
        "\n",
        "1. Tampilkan semua data siswa pada mata pelajaran Ekonomi dan Fisika\n",
        "2. Tampilkan semua data siswa yang mempunyai nilai lebih dari 50 di mata pelajaran Kimia \n",
        "3. Tampilkan semua data yang mempunyai nilai lebih dari 70, berjnis kelamin perempuan dan di kelas 12C"
      ]
    },
    {
      "cell_type": "code",
      "metadata": {
        "id": "eB5oSf_KBGsA",
        "colab": {
          "base_uri": "https://localhost:8080/",
          "height": 173
        },
        "outputId": "8037aca0-ba7e-4b30-c820-7dc69ad7eae3"
      },
      "source": [
        "# code here \n",
        "df[(df.pelajaran =='Fisika') | (df.pelajaran =='Ekonomi')]\n"
      ],
      "execution_count": 24,
      "outputs": [
        {
          "output_type": "execute_result",
          "data": {
            "text/html": [
              "<div>\n",
              "<style scoped>\n",
              "    .dataframe tbody tr th:only-of-type {\n",
              "        vertical-align: middle;\n",
              "    }\n",
              "\n",
              "    .dataframe tbody tr th {\n",
              "        vertical-align: top;\n",
              "    }\n",
              "\n",
              "    .dataframe thead th {\n",
              "        text-align: right;\n",
              "    }\n",
              "</style>\n",
              "<table border=\"1\" class=\"dataframe\">\n",
              "  <thead>\n",
              "    <tr style=\"text-align: right;\">\n",
              "      <th></th>\n",
              "      <th>siswa_id</th>\n",
              "      <th>pelajaran</th>\n",
              "      <th>nilai</th>\n",
              "      <th>jenis-kelamin</th>\n",
              "      <th>kelas</th>\n",
              "    </tr>\n",
              "  </thead>\n",
              "  <tbody>\n",
              "    <tr>\n",
              "      <th>3</th>\n",
              "      <td>4</td>\n",
              "      <td>Ekonomi</td>\n",
              "      <td>89</td>\n",
              "      <td>laki-laki</td>\n",
              "      <td>12D</td>\n",
              "    </tr>\n",
              "    <tr>\n",
              "      <th>10</th>\n",
              "      <td>11</td>\n",
              "      <td>Fisika</td>\n",
              "      <td>23</td>\n",
              "      <td>perempuan</td>\n",
              "      <td>12A</td>\n",
              "    </tr>\n",
              "    <tr>\n",
              "      <th>14</th>\n",
              "      <td>15</td>\n",
              "      <td>Fisika</td>\n",
              "      <td>62</td>\n",
              "      <td>perempuan</td>\n",
              "      <td>12D</td>\n",
              "    </tr>\n",
              "    <tr>\n",
              "      <th>17</th>\n",
              "      <td>18</td>\n",
              "      <td>Fisika</td>\n",
              "      <td>21</td>\n",
              "      <td>perempuan</td>\n",
              "      <td>12A</td>\n",
              "    </tr>\n",
              "  </tbody>\n",
              "</table>\n",
              "</div>"
            ],
            "text/plain": [
              "    siswa_id pelajaran  nilai jenis-kelamin kelas\n",
              "3          4   Ekonomi     89     laki-laki   12D\n",
              "10        11    Fisika     23     perempuan   12A\n",
              "14        15    Fisika     62     perempuan   12D\n",
              "17        18    Fisika     21     perempuan   12A"
            ]
          },
          "metadata": {
            "tags": []
          },
          "execution_count": 24
        }
      ]
    },
    {
      "cell_type": "code",
      "metadata": {
        "colab": {
          "base_uri": "https://localhost:8080/",
          "height": 204
        },
        "id": "1EtPUVhTsjBU",
        "outputId": "a75dbb7a-ccc8-473f-983e-40b27873b6cc"
      },
      "source": [
        "df[(df.pelajaran =='Kimia') & (df.nilai > 50)]\n"
      ],
      "execution_count": 55,
      "outputs": [
        {
          "output_type": "execute_result",
          "data": {
            "text/html": [
              "<div>\n",
              "<style scoped>\n",
              "    .dataframe tbody tr th:only-of-type {\n",
              "        vertical-align: middle;\n",
              "    }\n",
              "\n",
              "    .dataframe tbody tr th {\n",
              "        vertical-align: top;\n",
              "    }\n",
              "\n",
              "    .dataframe thead th {\n",
              "        text-align: right;\n",
              "    }\n",
              "</style>\n",
              "<table border=\"1\" class=\"dataframe\">\n",
              "  <thead>\n",
              "    <tr style=\"text-align: right;\">\n",
              "      <th></th>\n",
              "      <th>siswa_id</th>\n",
              "      <th>pelajaran</th>\n",
              "      <th>nilai</th>\n",
              "      <th>jenis-kelamin</th>\n",
              "      <th>kelas</th>\n",
              "    </tr>\n",
              "  </thead>\n",
              "  <tbody>\n",
              "    <tr>\n",
              "      <th>1</th>\n",
              "      <td>2</td>\n",
              "      <td>Kimia</td>\n",
              "      <td>51</td>\n",
              "      <td>perempuan</td>\n",
              "      <td>12C</td>\n",
              "    </tr>\n",
              "    <tr>\n",
              "      <th>2</th>\n",
              "      <td>3</td>\n",
              "      <td>Kimia</td>\n",
              "      <td>86</td>\n",
              "      <td>perempuan</td>\n",
              "      <td>12D</td>\n",
              "    </tr>\n",
              "    <tr>\n",
              "      <th>3</th>\n",
              "      <td>4</td>\n",
              "      <td>Kimia</td>\n",
              "      <td>97</td>\n",
              "      <td>laki-laki</td>\n",
              "      <td>12B</td>\n",
              "    </tr>\n",
              "    <tr>\n",
              "      <th>16</th>\n",
              "      <td>17</td>\n",
              "      <td>Kimia</td>\n",
              "      <td>60</td>\n",
              "      <td>laki-laki</td>\n",
              "      <td>12C</td>\n",
              "    </tr>\n",
              "    <tr>\n",
              "      <th>19</th>\n",
              "      <td>20</td>\n",
              "      <td>Kimia</td>\n",
              "      <td>53</td>\n",
              "      <td>laki-laki</td>\n",
              "      <td>12D</td>\n",
              "    </tr>\n",
              "  </tbody>\n",
              "</table>\n",
              "</div>"
            ],
            "text/plain": [
              "    siswa_id pelajaran  nilai jenis-kelamin kelas\n",
              "1          2     Kimia     51     perempuan   12C\n",
              "2          3     Kimia     86     perempuan   12D\n",
              "3          4     Kimia     97     laki-laki   12B\n",
              "16        17     Kimia     60     laki-laki   12C\n",
              "19        20     Kimia     53     laki-laki   12D"
            ]
          },
          "metadata": {
            "tags": []
          },
          "execution_count": 55
        }
      ]
    },
    {
      "cell_type": "code",
      "metadata": {
        "colab": {
          "base_uri": "https://localhost:8080/",
          "height": 80
        },
        "id": "dgUbavrFwN0C",
        "outputId": "f020f36d-291e-4bf0-f72a-e70a2f5db75f"
      },
      "source": [
        "df[(df.kelas =='12C') & (df.nilai > 70) & (df['jenis-kelamin'] == 'perempuan')]"
      ],
      "execution_count": 56,
      "outputs": [
        {
          "output_type": "execute_result",
          "data": {
            "text/html": [
              "<div>\n",
              "<style scoped>\n",
              "    .dataframe tbody tr th:only-of-type {\n",
              "        vertical-align: middle;\n",
              "    }\n",
              "\n",
              "    .dataframe tbody tr th {\n",
              "        vertical-align: top;\n",
              "    }\n",
              "\n",
              "    .dataframe thead th {\n",
              "        text-align: right;\n",
              "    }\n",
              "</style>\n",
              "<table border=\"1\" class=\"dataframe\">\n",
              "  <thead>\n",
              "    <tr style=\"text-align: right;\">\n",
              "      <th></th>\n",
              "      <th>siswa_id</th>\n",
              "      <th>pelajaran</th>\n",
              "      <th>nilai</th>\n",
              "      <th>jenis-kelamin</th>\n",
              "      <th>kelas</th>\n",
              "    </tr>\n",
              "  </thead>\n",
              "  <tbody>\n",
              "    <tr>\n",
              "      <th>9</th>\n",
              "      <td>10</td>\n",
              "      <td>Matematika</td>\n",
              "      <td>72</td>\n",
              "      <td>perempuan</td>\n",
              "      <td>12C</td>\n",
              "    </tr>\n",
              "  </tbody>\n",
              "</table>\n",
              "</div>"
            ],
            "text/plain": [
              "   siswa_id   pelajaran  nilai jenis-kelamin kelas\n",
              "9        10  Matematika     72     perempuan   12C"
            ]
          },
          "metadata": {
            "tags": []
          },
          "execution_count": 56
        }
      ]
    },
    {
      "cell_type": "markdown",
      "metadata": {
        "id": "6Od6R3H1BGsE"
      },
      "source": [
        "<h2>Soal 3: Data Transformation</h2>\n",
        "\n",
        "lakukan data transformasi terhadap column 'nilai' dengan fungsi transformasi, berikut rumus dari normalisasi\n",
        "\n",
        "![alt text](https://drive.google.com/uc?id=1wed-EbRSTA0JP1ceDp6lcKBqH2yJ4aa3)"
      ]
    },
    {
      "cell_type": "code",
      "metadata": {
        "colab": {
          "base_uri": "https://localhost:8080/"
        },
        "id": "ZivCyui04wy-",
        "outputId": "aa08fe1f-caf1-4189-fcdf-b51313cf259e"
      },
      "source": [
        "def normalisasi(x):\n",
        "  return (x - x.min()) / (x.max()-x.min())\n",
        "\n",
        "nmin = df.nilai.min()\n",
        "nmax = df.nilai.max()\n",
        "print('nilai minimum : ' +str(nmin))\n",
        "print('nilai maksimum : ' +str(nmax))\n",
        "print(df[['nilai']].apply(normalisasi))"
      ],
      "execution_count": 62,
      "outputs": [
        {
          "output_type": "stream",
          "text": [
            "nilai minimum : 0.1134020618556701\n",
            "nilai maksimum : 1.0\n",
            "       nilai\n",
            "0   0.337209\n",
            "1   0.465116\n",
            "2   0.872093\n",
            "3   1.000000\n",
            "4   0.372093\n",
            "5   0.848837\n",
            "6   0.000000\n",
            "7   0.837209\n",
            "8   0.837209\n",
            "9   0.709302\n",
            "10  0.418605\n",
            "11  0.267442\n",
            "12  0.616279\n",
            "13  0.651163\n",
            "14  0.151163\n",
            "15  0.453488\n",
            "16  0.569767\n",
            "17  0.151163\n",
            "18  0.058140\n",
            "19  0.488372\n"
          ],
          "name": "stdout"
        }
      ]
    }
  ]
}